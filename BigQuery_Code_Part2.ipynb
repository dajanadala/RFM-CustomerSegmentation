{
 "cells": [
  {
   "cell_type": "markdown",
   "metadata": {},
   "source": [
    "# Module: Main Analysis Types\n",
    "## Sprint: CLV, Customer Segmentation & RFM\n",
    "## Part 2: BigQueryCode"
   ]
  },
  {
   "cell_type": "markdown",
   "metadata": {},
   "source": [
    "## Creating the Registration Cohort"
   ]
  },
  {
   "cell_type": "code",
   "execution_count": null,
   "metadata": {},
   "outputs": [],
   "source": [
    "WITH registration_cohort AS (\n",
    "  SELECT \n",
    "    user_pseudo_id,\n",
    "    MIN(TIMESTAMP_SECONDS(CAST(event_timestamp / 1000000 AS INT64))) AS registration_date\n",
    "  FROM \n",
    "    `tc-da-1.turing_data_analytics.raw_events`\n",
    "  WHERE \n",
    "    TIMESTAMP_SECONDS(CAST(event_timestamp / 1000000 AS INT64)) BETWEEN TIMESTAMP('2020-11-01') AND TIMESTAMP('2021-01-31')\n",
    "  GROUP BY \n",
    "    user_pseudo_id\n",
    "),"
   ]
  },
  {
   "cell_type": "markdown",
   "metadata": {},
   "source": [
    "### Explanation\n",
    "WITH registration_cohort AS (...) creates a temporary table called registration_cohort.\n",
    "The user_pseudo_id (which is the recommended user ID) is selected and the earliest registration_date for each user.\n",
    "The WHERE clause ensures that the table only looks at events between November 1, 2020, and January 31, 2021 in accordance to task requirements.\n",
    "GROUP BY user_pseudo_id groups the data by each user, to get their first sign-up date."
   ]
  },
  {
   "cell_type": "markdown",
   "metadata": {},
   "source": [
    "## Calculating weekly revenue for all users"
   ]
  },
  {
   "cell_type": "code",
   "execution_count": null,
   "metadata": {},
   "outputs": [],
   "source": [
    "weekly_revenue AS (\n",
    "  SELECT \n",
    "    user_pseudo_id,\n",
    "    TIMESTAMP_TRUNC(TIMESTAMP_SECONDS(CAST(event_timestamp / 1000000 AS INT64)), WEEK) AS week_start,\n",
    "    SUM(IF(event_name = 'purchase', purchase_revenue_in_usd, 0)) AS weekly_revenue\n",
    "  FROM \n",
    "    `tc-da-1.turing_data_analytics.raw_events`\n",
    "  WHERE \n",
    "    TIMESTAMP_SECONDS(CAST(event_timestamp / 1000000 AS INT64)) BETWEEN TIMESTAMP('2020-11-01') AND TIMESTAMP('2021-01-31')\n",
    "  GROUP BY \n",
    "    user_pseudo_id, week_start\n",
    "),"
   ]
  },
  {
   "cell_type": "markdown",
   "metadata": {},
   "source": [
    "### Explanation \n",
    "WITH weekly_revenue AS creates a temporary table called weekly_revenue.\n",
    "TIMESTAMP_TRUNC(..., WEEK) AS week_start: This makes sures the table is looking at activity by week.\n",
    "SUM(IF(event_name = 'purchase', purchase_revenue_in_usd, 0)) AS weekly_revenue: Adds up all the purchase amounts for each user, but only if the event is a purchase.\n",
    "GROUP BY user_pseudo_id, week_start: Groups the spending by user and week."
   ]
  },
  {
   "cell_type": "markdown",
   "metadata": {},
   "source": [
    "## Calculating Weekly Registrations"
   ]
  },
  {
   "cell_type": "code",
   "execution_count": null,
   "metadata": {},
   "outputs": [],
   "source": [
    "weekly_registrations AS (\n",
    "  SELECT \n",
    "    TIMESTAMP_TRUNC(registration_date, WEEK) AS registration_week_start,\n",
    "    COUNT(DISTINCT user_pseudo_id) AS weekly_registrations\n",
    "  FROM \n",
    "    registration_cohort\n",
    "  GROUP BY \n",
    "    registration_week_start\n",
    "),"
   ]
  },
  {
   "cell_type": "markdown",
   "metadata": {},
   "source": [
    "### Explanation\n",
    "TIMESTAMP_TRUNC(registration_date, WEEK) AS registration_week_start: This groups the registration dates by week.\n",
    "COUNT(DISTINCT user_pseudo_id) AS weekly_registrations: Counts the unique users who signed up each week.\n",
    "GROUP BY registration_week_start: Groups the counts by each week."
   ]
  },
  {
   "cell_type": "markdown",
   "metadata": {},
   "source": [
    "## Calculating Weekly Revenue per Registration Cohort"
   ]
  },
  {
   "cell_type": "code",
   "execution_count": null,
   "metadata": {},
   "outputs": [],
   "source": [
    "weekly_revenue_per_cohort AS (\n",
    "  SELECT\n",
    "    r.user_pseudo_id,\n",
    "    r.week_start,\n",
    "    r.weekly_revenue,\n",
    "    rc.registration_date,\n",
    "    TIMESTAMP_TRUNC(rc.registration_date, WEEK) AS registration_week_start,\n",
    "    DATE_DIFF(DATE(TIMESTAMP_TRUNC(r.week_start, WEEK)), DATE(TIMESTAMP_TRUNC(rc.registration_date, WEEK)), WEEK) AS weeks_after_registration\n",
    "  FROM\n",
    "    weekly_revenue r\n",
    "  JOIN\n",
    "    registration_cohort rc\n",
    "  ON\n",
    "    r.user_pseudo_id = rc.user_pseudo_id\n",
    "),"
   ]
  },
  {
   "cell_type": "markdown",
   "metadata": {},
   "source": [
    "### Explanation\n",
    "Here, in this step, links users’ spending to their registration week.\n",
    "JOIN registration_cohort rc ON r.user_pseudo_id = rc.user_pseudo_id: Combines the weekly_revenue and registration_cohort tables by matching user IDs.\n",
    "DATE_DIFF(...) AS weeks_after_registration: Calculates the number of weeks between the registration date and each spending week."
   ]
  },
  {
   "cell_type": "markdown",
   "metadata": {},
   "source": [
    "## Aggregating and Calculating Revenue per Registration Cohort"
   ]
  },
  {
   "cell_type": "code",
   "execution_count": null,
   "metadata": {},
   "outputs": [],
   "source": [
    " cohort_revenue AS (\n",
    "  SELECT\n",
    "    r.registration_week_start,\n",
    "    weeks_after_registration,\n",
    "    SUM(weekly_revenue) AS total_weekly_revenue,\n",
    "    wr.weekly_registrations\n",
    "  FROM\n",
    "    weekly_revenue_per_cohort r\n",
    "  JOIN\n",
    "    weekly_registrations wr\n",
    "  ON\n",
    "    r.registration_week_start = wr.registration_week_start\n",
    "  GROUP BY\n",
    "    registration_week_start, weeks_after_registration, wr.weekly_registrations\n",
    "),"
   ]
  },
  {
   "cell_type": "markdown",
   "metadata": {},
   "source": [
    "### Explanation\n",
    "JOIN weekly_registrations wr ON r.registration_week_start = wr.registration_week_start: Combines the revenue data with the registration counts based on the week they registered.\n",
    "SUM(weekly_revenue) AS total_weekly_revenue: Adds up the total revenue for each cohort.\n",
    "GROUP BY registration_week_start, weeks_after_registration, wr.weekly_registrations: Groups these sums by the registration week and the number of weeks since registration."
   ]
  },
  {
   "cell_type": "markdown",
   "metadata": {},
   "source": [
    "## Calculate Revenue per User and Outputing Results"
   ]
  },
  {
   "cell_type": "code",
   "execution_count": null,
   "metadata": {},
   "outputs": [],
   "source": [
    "SELECT\n",
    "  registration_week_start,\n",
    "  weeks_after_registration,\n",
    "  total_weekly_revenue / weekly_registrations AS revenue_per_user,\n",
    "  weekly_registrations\n",
    "FROM\n",
    "  cohort_revenue\n",
    "ORDER BY\n",
    "  registration_week_start, weeks_after_registration"
   ]
  },
  {
   "cell_type": "markdown",
   "metadata": {},
   "source": [
    "### Explanation\n",
    "total_weekly_revenue / weekly_registrations AS revenue_per_user: Divides the total revenue by the number of users who signed up that week to get the average revenue per user.\n",
    "ORDER BY registration_week_start, weeks_after_registration: Sorts the results by the registration week and how many weeks have passed since then."
   ]
  },
  {
   "cell_type": "markdown",
   "metadata": {},
   "source": [
    "## Full Code:"
   ]
  },
  {
   "cell_type": "code",
   "execution_count": null,
   "metadata": {},
   "outputs": [],
   "source": [
    "WITH registration_cohort AS (\n",
    "  SELECT \n",
    "    user_pseudo_id,\n",
    "    MIN(TIMESTAMP_SECONDS(CAST(event_timestamp / 1000000 AS INT64))) AS registration_date\n",
    "  FROM \n",
    "    `tc-da-1.turing_data_analytics.raw_events`\n",
    "  WHERE \n",
    "    TIMESTAMP_SECONDS(CAST(event_timestamp / 1000000 AS INT64)) BETWEEN TIMESTAMP('2020-11-01') AND TIMESTAMP('2021-01-31')\n",
    "  GROUP BY \n",
    "    user_pseudo_id\n",
    "),\n",
    "\n",
    "-- Calculating Weekly Revenue for All Users\n",
    "weekly_revenue AS (\n",
    "  SELECT \n",
    "    user_pseudo_id,\n",
    "    TIMESTAMP_TRUNC(TIMESTAMP_SECONDS(CAST(event_timestamp / 1000000 AS INT64)), WEEK) AS week_start,\n",
    "    SUM(IF(event_name = 'purchase', purchase_revenue_in_usd, 0)) AS weekly_revenue\n",
    "  FROM \n",
    "    `tc-da-1.turing_data_analytics.raw_events`\n",
    "  WHERE \n",
    "    TIMESTAMP_SECONDS(CAST(event_timestamp / 1000000 AS INT64)) BETWEEN TIMESTAMP('2020-11-01') AND TIMESTAMP('2021-01-31')\n",
    "  GROUP BY \n",
    "    user_pseudo_id, week_start\n",
    "),\n",
    "\n",
    "-- Calculating Weekly Registrations\n",
    "weekly_registrations AS (\n",
    "  SELECT \n",
    "    TIMESTAMP_TRUNC(registration_date, WEEK) AS registration_week_start,\n",
    "    COUNT(DISTINCT user_pseudo_id) AS weekly_registrations\n",
    "  FROM \n",
    "    registration_cohort\n",
    "  GROUP BY \n",
    "    registration_week_start\n",
    "),\n",
    "\n",
    "-- Calculating Weekly Revenue per Registration Cohort\n",
    "weekly_revenue_per_cohort AS (\n",
    "  SELECT\n",
    "    r.user_pseudo_id,\n",
    "    r.week_start,\n",
    "    r.weekly_revenue,\n",
    "    rc.registration_date,\n",
    "    TIMESTAMP_TRUNC(rc.registration_date, WEEK) AS registration_week_start,\n",
    "    DATE_DIFF(DATE(TIMESTAMP_TRUNC(r.week_start, WEEK)), DATE(TIMESTAMP_TRUNC(rc.registration_date, WEEK)), WEEK) AS weeks_after_registration\n",
    "  FROM\n",
    "    weekly_revenue r\n",
    "  JOIN\n",
    "    registration_cohort rc\n",
    "  ON\n",
    "    r.user_pseudo_id = rc.user_pseudo_id\n",
    "),\n",
    "\n",
    "-- Aggregating and Calculating Revenue per Registration Cohort\n",
    "cohort_revenue AS (\n",
    "  SELECT\n",
    "    r.registration_week_start,\n",
    "    weeks_after_registration,\n",
    "    SUM(weekly_revenue) AS total_weekly_revenue,\n",
    "    wr.weekly_registrations\n",
    "  FROM\n",
    "    weekly_revenue_per_cohort r\n",
    "  JOIN\n",
    "    weekly_registrations wr\n",
    "  ON\n",
    "    r.registration_week_start = wr.registration_week_start\n",
    "  GROUP BY\n",
    "    registration_week_start, weeks_after_registration, wr.weekly_registrations\n",
    ")\n",
    "\n",
    "-- Calculating Revenue per User and Outputing Results\n",
    "SELECT\n",
    "  registration_week_start,\n",
    "  weeks_after_registration,\n",
    "  total_weekly_revenue / weekly_registrations AS revenue_per_user,\n",
    "  weekly_registrations\n",
    "FROM\n",
    "  cohort_revenue\n",
    "ORDER BY\n",
    "  registration_week_start, weeks_after_registration\n"
   ]
  }
 ],
 "metadata": {
  "language_info": {
   "name": "python"
  }
 },
 "nbformat": 4,
 "nbformat_minor": 2
}
