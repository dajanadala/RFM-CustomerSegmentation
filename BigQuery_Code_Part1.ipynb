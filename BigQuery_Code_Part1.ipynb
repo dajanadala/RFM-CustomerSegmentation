{
 "cells": [
  {
   "cell_type": "markdown",
   "metadata": {},
   "source": [
    "# Module: Main Analysis Types\n",
    "## Sprint: Customer Segmentation and RFM\n",
    "## Part 1: BigQueryCode"
   ]
  },
  {
   "cell_type": "markdown",
   "metadata": {},
   "source": [
    "## Filtering data based on conditions from the task"
   ]
  },
  {
   "cell_type": "code",
   "execution_count": null,
   "metadata": {
    "vscode": {
     "languageId": "sql"
    }
   },
   "outputs": [],
   "source": [
    "WITH filtered_data AS (\n",
    "  SELECT\n",
    "    CustomerID,\n",
    "    InvoiceNo,\n",
    "    InvoiceDate,\n",
    "    Quantity,\n",
    "    UnitPrice,\n",
    "    TIMESTAMP(InvoiceDate) AS TransactionDate\n",
    "  FROM\n",
    "    `turing_data_analytics.rfm`\n",
    "  WHERE\n",
    "    TIMESTAMP(InvoiceDate) BETWEEN TIMESTAMP('2010-12-01') AND TIMESTAMP('2011-12-01')\n",
    "    AND CustomerID IS NOT NULL\n",
    "    AND Quantity > 0\n",
    "),"
   ]
  },
  {
   "cell_type": "markdown",
   "metadata": {},
   "source": [
    "### Explanation\n",
    "WITH filtered_data AS (...) is a Common Table Expression (CTE) that I created to temporarily store a set of data that is specific to the task. The SELECT statement extracts specific information columns and I add a new column called TransactionDate by converting InvoiceDate to a TIMESTAMP format. The WHERE part filters transactions that happened between December 1, 2010, and December 1, 2011, where the CustomerID isn’t missing, and the Quantity is greater than zero (because transactions with no items are not very useful)."
   ]
  },
  {
   "cell_type": "markdown",
   "metadata": {},
   "source": [
    "## Calculating Frequency and Monetary Value"
   ]
  },
  {
   "cell_type": "code",
   "execution_count": null,
   "metadata": {
    "vscode": {
     "languageId": "sql"
    }
   },
   "outputs": [],
   "source": [
    "t1 AS (\n",
    "  SELECT\n",
    "    CustomerID,\n",
    "    MAX(TransactionDate) AS last_purchase_date,\n",
    "    COUNT(DISTINCT InvoiceNo) AS frequency,\n",
    "    SUM(Quantity * UnitPrice) AS monetary\n",
    "  FROM\n",
    "    filtered_data\n",
    "  GROUP BY\n",
    "    CustomerID\n",
    "),"
   ]
  },
  {
   "cell_type": "markdown",
   "metadata": {},
   "source": [
    "### Explanation\n",
    "Another temporary table has been created, called t1.\n",
    "MAX(TransactionDate) AS last_purchase_date: Finds the most recent shopping date for each customer.\n",
    "COUNT(DISTINCT InvoiceNo) AS frequency: Counts how many unique shopping trips each customer made.\n",
    "SUM(Quantity * UnitPrice) AS monetary: Adds up the total money each customer spent.\n",
    "GROUP BY CustomerID: Groups all this info by each customer. "
   ]
  },
  {
   "cell_type": "markdown",
   "metadata": {},
   "source": [
    "## Calculating Recency "
   ]
  },
  {
   "cell_type": "code",
   "execution_count": null,
   "metadata": {
    "vscode": {
     "languageId": "sql"
    }
   },
   "outputs": [],
   "source": [
    "t2 AS (\n",
    "  SELECT\n",
    "    *,\n",
    "    DATE_DIFF(TIMESTAMP('2011-12-01'), last_purchase_date, DAY) AS recency\n",
    "  FROM\n",
    "    t1\n",
    "),"
   ]
  },
  {
   "cell_type": "markdown",
   "metadata": {},
   "source": [
    "### Explanation\n",
    "Another temporary table had been created, called t2.\n",
    "DATE_DIFF(TIMESTAMP('2011-12-01'), last_purchase_date, DAY) AS recency: This finds out how many days since their last purchase until December 1, 2011 in accordancy to task requirements.\n",
    "The * takes and shows everything from t1, e.g CustomerID, last_purchase_date, frequency, and monetary."
   ]
  },
  {
   "cell_type": "markdown",
   "metadata": {},
   "source": [
    "## Calculating Quartiles for R, F, M"
   ]
  },
  {
   "cell_type": "code",
   "execution_count": null,
   "metadata": {
    "vscode": {
     "languageId": "sql"
    }
   },
   "outputs": [],
   "source": [
    "t3 AS (\n",
    "  SELECT \n",
    "    a.*,\n",
    "    -- Quartiles for MONETARY\n",
    "    b.percentiles[OFFSET(1)] AS m25, \n",
    "    b.percentiles[OFFSET(2)] AS m50,\n",
    "    b.percentiles[OFFSET(3)] AS m75,\n",
    "    -- Quartiles for FREQUENCY\n",
    "    c.percentiles[OFFSET(1)] AS f25, \n",
    "    c.percentiles[OFFSET(2)] AS f50,\n",
    "    c.percentiles[OFFSET(3)] AS f75,\n",
    "    -- Quartiles for RECENCY\n",
    "    d.percentiles[OFFSET(1)] AS r25, \n",
    "    d.percentiles[OFFSET(2)] AS r50,\n",
    "    d.percentiles[OFFSET(3)] AS r75\n",
    "  FROM \n",
    "    t2 a,\n",
    "    (SELECT APPROX_QUANTILES(monetary, 4) AS percentiles FROM t2) b,\n",
    "    (SELECT APPROX_QUANTILES(frequency, 4) AS percentiles FROM t2) c,\n",
    "    (SELECT APPROX_QUANTILES(recency, 4) AS percentiles FROM t2) d\n",
    "),"
   ]
  },
  {
   "cell_type": "markdown",
   "metadata": {},
   "source": [
    "### Explanation\n",
    "Another temp table created, called t3.\n",
    "APPROX_QUANTILES(column, 4) AS percentiles: This function splits the data into four parts (quartiles). \n",
    "For example, for monetary, it finds out the values at the 25th percentile (m25), 50th percentile (m50), and 75th percentile (m75).\n",
    "This is done for monetary, frequency, and recency and join these quartiles back to the main data."
   ]
  },
  {
   "cell_type": "markdown",
   "metadata": {},
   "source": [
    "## Assigning R, F, M scores based on quartiles"
   ]
  },
  {
   "cell_type": "code",
   "execution_count": null,
   "metadata": {
    "vscode": {
     "languageId": "sql"
    }
   },
   "outputs": [],
   "source": [
    "t4 AS (\n",
    "  SELECT\n",
    "    *,\n",
    "    CAST(ROUND((f_score + m_score) / 2, 0) AS INT64) AS fm_score,\n",
    "    FROM( SELECT *,\n",
    "    CASE \n",
    "      WHEN monetary <= m25 THEN 1\n",
    "      WHEN monetary <= m50 AND monetary > m25 THEN 2 \n",
    "      WHEN monetary <= m75 AND monetary > m50 THEN 3 \n",
    "      ELSE 4\n",
    "    END AS m_score,\n",
    "    CASE \n",
    "      WHEN frequency <= f25 THEN 1\n",
    "      WHEN frequency <= f50 AND frequency > f25 THEN 2 \n",
    "      WHEN frequency <= f75 AND frequency > f50 THEN 3 \n",
    "      ELSE 4\n",
    "    END AS f_score,\n",
    "    CASE \n",
    "      WHEN recency <= r25 THEN 4\n",
    "      WHEN recency <= r50 AND recency > r25 THEN 3 \n",
    "      WHEN recency <= r75 AND recency > r50 THEN 2 \n",
    "      ELSE 1\n",
    "    END AS r_score\n",
    "  FROM\n",
    "    t3\n",
    ")\n",
    "),"
   ]
  },
  {
   "cell_type": "markdown",
   "metadata": {},
   "source": [
    "### Explanation\n",
    "Here I am giving scores from 1 to 4 based on the quartiles.\n",
    "CASE statements are like if-else conditions here.\n",
    "For monetary: If the value is in the lowest 25%, it gets a score of 1. If it’s between 25% and 50%, it gets a score of 2, and so on.\n",
    "The same logic applies for frequency and recency.\n",
    "CAST(ROUND((f_score + m_score) / 2, 0) AS INT64) AS fm_score: This calculates an average score of f_score and m_score, rounds it, and changes it to an integer."
   ]
  },
  {
   "cell_type": "markdown",
   "metadata": {},
   "source": [
    "## Calculating rfm_score and Segmenting Customers"
   ]
  },
  {
   "cell_type": "code",
   "execution_count": null,
   "metadata": {
    "vscode": {
     "languageId": "sql"
    }
   },
   "outputs": [],
   "source": [
    "t5 AS (\n",
    "  SELECT\n",
    "    CustomerID,\n",
    "    recency,\n",
    "    frequency,\n",
    "    monetary,\n",
    "    r_score,\n",
    "    f_score,\n",
    "    m_score,\n",
    "    fm_score,\n",
    "    CONCAT(CAST(r_score AS STRING), CAST(f_score AS STRING), CAST(m_score AS STRING)) AS rfm_score,\n",
    "    CASE \n",
    "      WHEN (r_score = 4 AND fm_score = 4) \n",
    "        OR (r_score = 4 AND fm_score = 3) \n",
    "        OR (r_score = 3 AND fm_score = 4) \n",
    "      THEN 'Best Customers'\n",
    "      WHEN (r_score = 3 AND fm_score = 3)\n",
    "        OR (r_score = 2 AND fm_score = 4)\n",
    "        OR (r_score = 2 AND fm_score = 3)\n",
    "      THEN 'Loyal Customers'\n",
    "      WHEN m_score = 4 \n",
    "      THEN 'Big Spenders'\n",
    "      WHEN (r_score = 4 AND fm_score = 3) \n",
    "        OR (r_score = 3 AND fm_score = 2)\n",
    "      THEN 'Potential Loyalists'\n",
    "      WHEN r_score = 4 AND fm_score = 1 THEN 'Recent Customers'\n",
    "      WHEN (r_score = 3 AND fm_score = 1) \n",
    "        OR (r_score = 2 AND fm_score = 1)\n",
    "      THEN 'Promising'\n",
    "      WHEN (r_score = 2 AND fm_score = 2) \n",
    "        OR (r_score = 1 AND fm_score = 3)\n",
    "      THEN 'Customers Needing Attention'\n",
    "      WHEN (r_score = 1 AND fm_score = 4) \n",
    "        OR (r_score = 1 AND fm_score = 3)        \n",
    "      THEN 'At Risk'\n",
    "      WHEN r_score = 1 AND fm_score = 2 THEN 'Hibernating'\n",
    "      WHEN r_score = 1 AND fm_score = 1 THEN 'Lost'\n",
    "    END AS rfm_segment\n",
    "  FROM\n",
    "    t4\n",
    "),"
   ]
  },
  {
   "cell_type": "markdown",
   "metadata": {},
   "source": [
    "### Explanation:\n",
    "CONCAT(CAST(r_score AS STRING), CAST(f_score AS STRING), CAST(m_score AS STRING)) AS rfm_score: combines the individual scores into one string.\n",
    "The CASE statement assigns customers to groups based on their scores:\n",
    "For example, if they have high scores in all categories, they’re \"Best Customers\"."
   ]
  },
  {
   "cell_type": "markdown",
   "metadata": {},
   "source": [
    "## Counting occurrences of each RFM score combination"
   ]
  },
  {
   "cell_type": "code",
   "execution_count": null,
   "metadata": {
    "vscode": {
     "languageId": "sql"
    }
   },
   "outputs": [],
   "source": [
    "rfm_counts AS (\n",
    "  SELECT\n",
    "    rfm_score,\n",
    "    COUNT(*) AS rfm_score_count\n",
    "  FROM\n",
    "    t5\n",
    "  GROUP BY\n",
    "    rfm_score\n",
    "),"
   ]
  },
  {
   "cell_type": "markdown",
   "metadata": {},
   "source": [
    "### Explanation\n",
    "This counts how many customers fall into each RFM score combination.\n",
    "GROUP BY rfm_score: Groups the results by rfm_score to count the number of customers in each group"
   ]
  },
  {
   "cell_type": "markdown",
   "metadata": {},
   "source": [
    "## Full Code"
   ]
  },
  {
   "cell_type": "code",
   "execution_count": null,
   "metadata": {
    "vscode": {
     "languageId": "sql"
    }
   },
   "outputs": [],
   "source": [
    "-- Filtering data based on task conditions\n",
    "WITH filtered_data AS (\n",
    "  SELECT\n",
    "    CustomerID,\n",
    "    InvoiceNo,\n",
    "    InvoiceDate,\n",
    "    Quantity,\n",
    "    UnitPrice,\n",
    "    TIMESTAMP(InvoiceDate) AS TransactionDate\n",
    "  FROM\n",
    "    `turing_data_analytics.rfm`\n",
    "  WHERE\n",
    "    TIMESTAMP(InvoiceDate) BETWEEN TIMESTAMP('2010-12-01') AND TIMESTAMP('2011-12-01')\n",
    "    AND CustomerID IS NOT NULL\n",
    "    AND Quantity > 0\n",
    "),\n",
    "\n",
    "-- Calculating Frequency and Monetary value\n",
    "t1 AS (\n",
    "  SELECT\n",
    "    CustomerID,\n",
    "    MAX(TransactionDate) AS last_purchase_date,\n",
    "    COUNT(DISTINCT InvoiceNo) AS frequency,\n",
    "    SUM(Quantity * UnitPrice) AS monetary\n",
    "  FROM\n",
    "    filtered_data\n",
    "  GROUP BY\n",
    "    CustomerID\n",
    "),\n",
    "\n",
    "-- Calculating Recency\n",
    "t2 AS (\n",
    "  SELECT\n",
    "    *,\n",
    "    DATE_DIFF(TIMESTAMP('2011-12-01'), last_purchase_date, DAY) AS recency\n",
    "  FROM\n",
    "    t1\n",
    "),\n",
    "\n",
    "-- Calculating Quartiles for R, F, M\n",
    "t3 AS (\n",
    "  SELECT \n",
    "    a.*,\n",
    "    -- Quartiles for MONETARY\n",
    "    b.percentiles[OFFSET(1)] AS m25, \n",
    "    b.percentiles[OFFSET(2)] AS m50,\n",
    "    b.percentiles[OFFSET(3)] AS m75,\n",
    "    -- Quartiles for FREQUENCY\n",
    "    c.percentiles[OFFSET(1)] AS f25, \n",
    "    c.percentiles[OFFSET(2)] AS f50,\n",
    "    c.percentiles[OFFSET(3)] AS f75,\n",
    "    -- Quartiles for RECENCY\n",
    "    d.percentiles[OFFSET(1)] AS r25, \n",
    "    d.percentiles[OFFSET(2)] AS r50,\n",
    "    d.percentiles[OFFSET(3)] AS r75\n",
    "  FROM \n",
    "    t2 a,\n",
    "    (SELECT APPROX_QUANTILES(monetary, 4) AS percentiles FROM t2) b,\n",
    "    (SELECT APPROX_QUANTILES(frequency, 4) AS percentiles FROM t2) c,\n",
    "    (SELECT APPROX_QUANTILES(recency, 4) AS percentiles FROM t2) d\n",
    "),\n",
    "\n",
    "-- Assigning R, F, M scores based on Quartiles\n",
    "t4 AS (\n",
    "  SELECT\n",
    "    *,\n",
    "    CAST(ROUND((f_score + m_score) / 2, 0) AS INT64) AS fm_score,\n",
    "    FROM( SELECT*,\n",
    "    CASE \n",
    "      WHEN monetary <= m25 THEN 1\n",
    "      WHEN monetary <= m50 AND monetary > m25 THEN 2 \n",
    "      WHEN monetary <= m75 AND monetary > m50 THEN 3 \n",
    "      ELSE 4\n",
    "    END AS m_score,\n",
    "    CASE \n",
    "      WHEN frequency <= f25 THEN 1\n",
    "      WHEN frequency <= f50 AND frequency > f25 THEN 2 \n",
    "      WHEN frequency <= f75 AND frequency > f50 THEN 3 \n",
    "      ELSE 4\n",
    "    END AS f_score,\n",
    "    CASE \n",
    "      WHEN recency <= r25 THEN 4\n",
    "      WHEN recency <= r50 AND recency > r25 THEN 3 \n",
    "      WHEN recency <= r75 AND recency > r50 THEN 2 \n",
    "      ELSE 1\n",
    "    END AS r_score\n",
    "  FROM\n",
    "    t3\n",
    ")\n",
    "),\n",
    "\n",
    "-- Calculating rfm_score and Segmenting Customers\n",
    "t5 AS (\n",
    "  SELECT\n",
    "    CustomerID,\n",
    "    recency,\n",
    "    frequency,\n",
    "    monetary,\n",
    "    r_score,\n",
    "    f_score,\n",
    "    m_score,\n",
    "    fm_score,\n",
    "    CONCAT(CAST(r_score AS STRING), CAST(f_score AS STRING), CAST(m_score AS STRING)) AS rfm_score,\n",
    "    CASE \n",
    "      WHEN (r_score = 4 AND fm_score = 4) \n",
    "        OR (r_score = 4 AND fm_score = 3) \n",
    "        OR (r_score = 3 AND fm_score = 4) \n",
    "      THEN 'Best Customers'\n",
    "      WHEN --(r_score = 4 AND fm_score = 2) \n",
    "         (r_score = 3 AND fm_score = 3)\n",
    "        OR (r_score = 2 AND fm_score = 4)\n",
    "        OR (r_score = 2 AND fm_score = 3)\n",
    "      THEN 'Loyal Customers'\n",
    "       WHEN m_score = 4 \n",
    "      THEN 'Big Spenders'\n",
    "      WHEN (r_score = 4 AND fm_score = 3) \n",
    "        OR (r_score = 3 AND fm_score = 2)\n",
    "        --OR (r_score = 2 AND fm_score = 2)\n",
    "        --OR (r_score = 3 AND fm_score = 2)\n",
    "      THEN 'Potential Loyalists'\n",
    "      WHEN r_score = 4 AND fm_score = 1 THEN 'Recent Customers'\n",
    "      WHEN (r_score = 3 AND fm_score = 1) \n",
    "        OR (r_score = 2 AND fm_score = 1)\n",
    "      THEN 'Promising'\n",
    "      WHEN (r_score = 2 AND fm_score = 2) \n",
    "        OR (r_score = 1 AND fm_score = 3)\n",
    "        --OR (r_score = 1 AND fm_score = 2)\n",
    "      THEN 'Customers Needing Attention'\n",
    "      WHEN (r_score = 1 AND fm_score = 4) \n",
    "        OR (r_score = 1 AND fm_score = 3)        \n",
    "      THEN 'At Risk'\n",
    "      WHEN r_score = 1 AND fm_score = 2 THEN 'Hibernating'\n",
    "      WHEN r_score = 1 AND fm_score = 1 THEN 'Lost'\n",
    "    END AS rfm_segment\n",
    "  FROM\n",
    "    t4\n",
    "),\n",
    "\n",
    "-- Counting occurrences of each RFM score combination\n",
    "rfm_counts AS (\n",
    "  SELECT\n",
    "    rfm_score,\n",
    "    COUNT(*) AS rfm_score_count\n",
    "  FROM\n",
    "    t5\n",
    "  GROUP BY\n",
    "    rfm_score\n",
    ")\n",
    "\n",
    "-- Selecting final RFM Scores, Segments, and Counts\n",
    "SELECT\n",
    "  t5.CustomerID,\n",
    "  t5.recency,\n",
    "  t5.frequency,\n",
    "  t5.monetary,\n",
    "  t5.r_score,\n",
    "  t5.f_score,\n",
    "  t5.m_score,\n",
    "  t5.rfm_score,\n",
    "  rfm_counts.rfm_score_count AS n,\n",
    "  t5.fm_score,\n",
    "  t5.rfm_segment\n",
    "FROM\n",
    "  t5\n",
    "JOIN\n",
    "  rfm_counts ON t5.rfm_score = rfm_counts.rfm_score\n",
    "ORDER BY\n",
    "  t5.r_score DESC,\n",
    "  t5.fm_score DESC,\n",
    "  t5.CustomerID;\n",
    "\n"
   ]
  },
  {
   "cell_type": "markdown",
   "metadata": {},
   "source": [
    "This is the link that helped me create the code and complete this project: https://towardsdatascience.com/a-simple-way-to-segment-customers-using-google-bigquery-and-data-studio-f31c8896cc52"
   ]
  }
 ],
 "metadata": {
  "language_info": {
   "name": "python"
  }
 },
 "nbformat": 4,
 "nbformat_minor": 2
}
